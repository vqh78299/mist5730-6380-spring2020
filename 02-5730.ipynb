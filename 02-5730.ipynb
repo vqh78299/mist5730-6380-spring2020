{
 "cells": [
  {
   "cell_type": "markdown",
   "metadata": {},
   "source": [
    "# Head 1\n",
    "\n",
    "The **bold**\n",
    "\n",
    "The *italics*\n",
    "\n",
    "and the ~~strikethrough~~\n",
    "\n",
    "## Head 2\n",
    "\n",
    "\n",
    "\n",
    "### Head 3"
   ]
  },
  {
   "cell_type": "markdown",
   "metadata": {},
   "source": [
    "# Lists\n",
    "\n",
    "1. First things first\n",
    "2. Second things second\n",
    "\n",
    "\n",
    "* b1\n",
    "* b2\n",
    "\n",
    "\n",
    "- c1\n",
    "- c2"
   ]
  },
  {
   "cell_type": "markdown",
   "metadata": {},
   "source": [
    "[Terry College of Business](http://terry.uga.edu)\n",
    "\n",
    "![LOGO](https://www.terry.uga.edu/_resources/img/terry-shield-branding.svg)"
   ]
  },
  {
   "cell_type": "markdown",
   "metadata": {},
   "source": [
    "In Python the function `print` is used to display text\n",
    "\n",
    "My professor said\n",
    "> You have to work hard\n",
    ">\n",
    "> and then you will see light"
   ]
  },
  {
   "cell_type": "markdown",
   "metadata": {},
   "source": [
    "| col 1 | col 2 | col 3|\n",
    "|------:|:------|:----:|\n",
    "| apple | \\$30.0 | 23   |\n",
    "|oranges| \\$40.0 | 33   |"
   ]
  },
  {
   "cell_type": "markdown",
   "metadata": {},
   "source": [
    "$ \\sum x^2  $"
   ]
  },
  {
   "cell_type": "code",
   "execution_count": null,
   "metadata": {},
   "outputs": [],
   "source": []
  },
  {
   "cell_type": "markdown",
   "metadata": {},
   "source": [
    "# UGA by the Numbers\n",
    "\n",
    "## Founded\n",
    "\n",
    "> January 27, 1785, by the Georgia General Assembly. \n",
    "> \n",
    "> UGA is the birthplace of public higher education in America. \n",
    "\n",
    "\n",
    "| .                                                        |.                  |\n",
    "|----------------------------------------------------------|-------------------|\n",
    "| **Faculty (instruction/research/public service)**        |  3,119            |\n",
    "| **Administrative/other professional**                    |  3,213            |"
   ]
  },
  {
   "cell_type": "code",
   "execution_count": null,
   "metadata": {},
   "outputs": [],
   "source": []
  }
 ],
 "metadata": {
  "kernelspec": {
   "display_name": "Python 3",
   "language": "python",
   "name": "python3"
  },
  "language_info": {
   "codemirror_mode": {
    "name": "ipython",
    "version": 3
   },
   "file_extension": ".py",
   "mimetype": "text/x-python",
   "name": "python",
   "nbconvert_exporter": "python",
   "pygments_lexer": "ipython3",
   "version": "3.7.1"
  }
 },
 "nbformat": 4,
 "nbformat_minor": 2
}
