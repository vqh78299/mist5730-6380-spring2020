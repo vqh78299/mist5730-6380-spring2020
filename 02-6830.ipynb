{
 "cells": [
  {
   "cell_type": "code",
   "execution_count": 2,
   "metadata": {},
   "outputs": [
    {
     "data": {
      "text/plain": [
       "24"
      ]
     },
     "execution_count": 2,
     "metadata": {},
     "output_type": "execute_result"
    }
   ],
   "source": [
    "23 + 1"
   ]
  },
  {
   "cell_type": "markdown",
   "metadata": {},
   "source": [
    "# Markdown\n",
    "\n",
    "Text"
   ]
  },
  {
   "cell_type": "raw",
   "metadata": {},
   "source": [
    "# Markdown\n",
    "Text"
   ]
  },
  {
   "cell_type": "markdown",
   "metadata": {},
   "source": [
    "# Title\n",
    "\n",
    "This is an **introduction** to _markdown_. I really like this ~~markup~~ `language`.\n",
    "\n",
    "## Section\n",
    "\n",
    "[Terry College of Business](https://www.terry.uga.edu/)\n",
    "\n",
    "![Terry logo](https://brand.terry.uga.edu/Screen%20TERRY%202%20line%20Full%20Color.svg)\n",
    "\n",
    "### Subsection"
   ]
  },
  {
   "cell_type": "markdown",
   "metadata": {},
   "source": [
    "My shopping list:\n",
    "1. Apples\n",
    "2. Oranges\n",
    "3. Bread\n",
    "\n",
    "My to do list:\n",
    "- Learn\n",
    "- Learn\n",
    "- Learn"
   ]
  },
  {
   "cell_type": "markdown",
   "metadata": {},
   "source": [
    "1. Apples\n",
    "- Oranges\n",
    "- Coke"
   ]
  },
  {
   "cell_type": "markdown",
   "metadata": {},
   "source": [
    "Hello. \n",
    "\n",
    "I'm here.\n",
    "\n",
    "You're there.\n"
   ]
  },
  {
   "cell_type": "markdown",
   "metadata": {},
   "source": [
    "My professor said `study well`"
   ]
  },
  {
   "cell_type": "markdown",
   "metadata": {},
   "source": [
    "My professor said in his email:\n",
    "> study well\n",
    ">\n",
    "> and you shall succeed"
   ]
  },
  {
   "cell_type": "markdown",
   "metadata": {},
   "source": [
    "|  Item    | Price   |\n",
    "|----------|---------|\n",
    "| Pink lady apples   | \\$1.25    |\n",
    "|Oranges   | \\$2.35    |"
   ]
  },
  {
   "cell_type": "markdown",
   "metadata": {},
   "source": [
    "$ \\frac{1}{\\sqrt{x}} $"
   ]
  },
  {
   "cell_type": "code",
   "execution_count": null,
   "metadata": {},
   "outputs": [],
   "source": []
  }
 ],
 "metadata": {
  "kernelspec": {
   "display_name": "Python 3",
   "language": "python",
   "name": "python3"
  },
  "language_info": {
   "codemirror_mode": {
    "name": "ipython",
    "version": 3
   },
   "file_extension": ".py",
   "mimetype": "text/x-python",
   "name": "python",
   "nbconvert_exporter": "python",
   "pygments_lexer": "ipython3",
   "version": "3.7.3"
  }
 },
 "nbformat": 4,
 "nbformat_minor": 2
}
